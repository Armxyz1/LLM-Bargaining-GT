{
  "cells": [
    {
      "cell_type": "markdown",
      "metadata": {
        "id": "EIQMxzgqlRX7"
      },
      "source": [
        "<p align=\"center\"><img src=\"https://github.com/sotopia-lab/sotopia/blob/main/figs/title.png?raw=true\" alt=\"drawing\" width=\"100%\"/></p>"
      ]
    },
    {
      "cell_type": "markdown",
      "source": [
        "# Sotopia Tutorial Series\n",
        "\n",
        "The following is the first tutorial of this series to teach how to quickly build your socially intelligent agents on the sotopia platform.\n",
        "\n",
        "## Quick links\n",
        "\n",
        "1. Basics\n",
        "    \n",
        "    1.1 [Playing with Sotopia in a Google Colab Notebook](https://colab.research.google.com/drive/14hJOfzpA37PRUzdlFgiqVzUGIhhngqnz?usp=sharing)\n",
        "    \n",
        "    1.2 [Browsing sotopia data](https://colab.research.google.com/drive/1Gi2U3cA0KG1nekw1A0N0DZpx6gKrj8Nc?usp=sharing)\n",
        "\n",
        "2. Build your agents (coming soon!)\n",
        "3. Evaluate your agents (coming soon!)\n",
        "4. Extending Sotopia (coming soon!)\n",
        "\n",
        "Please contact [Hao Zhu](https://zhuhao.me) for any questions!"
      ],
      "metadata": {
        "id": "bIf4OMHUz6ma"
      }
    },
    {
      "cell_type": "markdown",
      "metadata": {
        "id": "Fe0-ncx5U8q7"
      },
      "source": [
        "# Guide on running Redis Stack for [Sotopia](https://sotopia.world)\n",
        "\n",
        "Author: [Hao Zhu](https://zhuhao.me)\n",
        "\n",
        "After the release of Sotopia package, I received feedback on the reliance of Sotopia on Redis, a KV database for maintaining profiles, interaction logs, error logs, and communication between the FastAPI server and agents. When hearing about database, people often think of a huge overhead. However, I want to show you in this tutorial that setting up Redis backend for Sotopia is actually extremely easy -- just run the following blocks."
      ]
    },
    {
      "cell_type": "markdown",
      "metadata": {
        "id": "DYRSxB4pWfDS"
      },
      "source": [
        "## Install Redis\n",
        "\n"
      ]
    },
    {
      "cell_type": "code",
      "execution_count": null,
      "metadata": {
        "id": "IJRC8SkzRteQ"
      },
      "outputs": [],
      "source": [
        "#@title The following block downloads Redis stack server 7.2.0, and libssl 1.1.\n",
        "%%capture\n",
        "!curl -fsSL https://packages.redis.io/redis-stack/redis-stack-server-7.2.0-v10.focal.x86_64.tar.gz -o redis-stack-server.tar.gz\n",
        "!tar -xvf redis-stack-server.tar.gz\n",
        "# Installs libssl1.1 for Ubuntu 22 source: https://stackoverflow.com/questions/72133316/libssl-so-1-1-cannot-open-shared-object-file-no-such-file-or-directory\n",
        "!wget http://nz2.archive.ubuntu.com/ubuntu/pool/main/o/openssl/libssl1.1_1.1.1f-1ubuntu2_amd64.deb\n",
        "!sudo dpkg -i libssl1.1_1.1.1f-1ubuntu2_amd64.deb\n",
        "!pip install redis"
      ]
    },
    {
      "cell_type": "code",
      "execution_count": null,
      "metadata": {
        "colab": {
          "base_uri": "https://localhost:8080/"
        },
        "id": "GlqtKYDmR2Ij",
        "outputId": "e663a307-8c39-42bf-d065-3dec988db998"
      },
      "outputs": [
        {
          "output_type": "stream",
          "name": "stdout",
          "text": [
            "Starting redis-stack-server, database path ./redis-stack-server-7.2.0-v10/var/db/redis-stack\n"
          ]
        }
      ],
      "source": [
        "# @title Just one line of code to spin up your redis server:\n",
        "\n",
        "\n",
        "!./redis-stack-server-7.2.0-v10/bin/redis-stack-server --daemonize yes"
      ]
    },
    {
      "cell_type": "markdown",
      "metadata": {
        "id": "bIf7Nni3XEQk"
      },
      "source": [
        "If the above cell results in no error message, you have successfully set up your Redis server."
      ]
    },
    {
      "cell_type": "code",
      "execution_count": null,
      "metadata": {
        "cellView": "form",
        "colab": {
          "base_uri": "https://localhost:8080/"
        },
        "id": "gNgwAngBR7vC",
        "outputId": "3b79b2a8-28f7-4672-e4df-56e556193ae8"
      },
      "outputs": [
        {
          "output_type": "execute_result",
          "data": {
            "text/plain": [
              "b'Yes it works.'"
            ]
          },
          "metadata": {},
          "execution_count": 3
        }
      ],
      "source": [
        "# @title Try it out:\n",
        "\n",
        "import redis\n",
        "client = redis.Redis(host = 'localhost', port=6379)\n",
        "client.ping()\n",
        "client.set('foo', 'Yes it works.')\n",
        "client.get('foo')"
      ]
    },
    {
      "cell_type": "markdown",
      "metadata": {
        "id": "RISoihCJXdiL"
      },
      "source": [
        "## Run Sotopia with it"
      ]
    },
    {
      "cell_type": "markdown",
      "metadata": {
        "id": "o0-S_Ug2d4vB"
      },
      "source": [
        "To simulate an episode in Sotopia, there's one thing you will have to do: adding your `OPENAI_API_KEY` to the secret to left. Click on the little 🔑 shape button, and then toggle \"Notebook access\", input \"OPENAI_API_KEY\" under Name and the key string under Value.\n",
        "\n"
      ]
    },
    {
      "cell_type": "code",
      "execution_count": null,
      "metadata": {
        "id": "ne2r-KmxXpNS"
      },
      "outputs": [],
      "source": [
        "#@title Run the following cell to add it to the environment variable.\n",
        "%%capture\n",
        "!pip install sotopia\n",
        "import os\n",
        "from google.colab import userdata\n",
        "os.environ[\"REDIS_OM_URL\"]=\"redis://:@localhost:6379\"\n",
        "os.environ[\"OPENAI_API_KEY\"] = userdata.get('OPENAI_API_KEY')"
      ]
    },
    {
      "cell_type": "code",
      "execution_count": null,
      "metadata": {
        "cellView": "form",
        "id": "X-3yiYuIcLVZ"
      },
      "outputs": [],
      "source": [
        "# @title Helper functions for adding characters and social tasks\n",
        "from sotopia.database.persistent_profile import AgentProfile, EnvironmentProfile\n",
        "from typing import Any\n",
        "def add_agent_to_database(**kwargs: dict[str, Any]) -> None:\n",
        "    agent = AgentProfile(**kwargs)\n",
        "    agent.save()\n",
        "\n",
        "def add_env_profile(**kwargs: dict[str, Any]) -> None:\n",
        "    env_profile = EnvironmentProfile(**kwargs)\n",
        "    env_profile.save()"
      ]
    },
    {
      "cell_type": "code",
      "execution_count": null,
      "metadata": {
        "id": "6nPHso_4Z9s-"
      },
      "outputs": [],
      "source": [
        "# @title Let's first add a character to the database. Only name is required when creating a new character\n",
        "\n",
        "\n",
        "first_name = 'A' # @param {type:\"string\"}\n",
        "last_name = '' # @param {type:\"string\"}\n",
        "age = 20 # @param {type:\"integer\"}\n",
        "occupation = 'Rational Agent' # @param {type:\"string\"}\n",
        "gender = 'Man' # @param [\"Man\", \"Woman\", \"Nonbinary\"]\n",
        "gender_pronoun = 'he/him' # @param {type:\"string\"}\n",
        "big_five = \"Rational, Smart\" # @param {type:\"string\"}\n",
        "moral_values = [] # @param {type:\"string\"}\n",
        "decision_making_style = \"analytical\" # @param {type:\"string\"}\n",
        "secret = \"\" # @param {type:\"string\"}\n",
        "\n",
        "add_agent_to_database(\n",
        "    first_name=first_name,\n",
        "    last_name=last_name,\n",
        "    age=age,\n",
        "    occupation=occupation,\n",
        "    gender=gender,\n",
        "    gender_pronoun=gender_pronoun,\n",
        "    big_five=big_five,\n",
        "    moral_values=moral_values,\n",
        "    decision_making_style=decision_making_style,\n",
        "    secret=secret,\n",
        ")"
      ]
    },
    {
      "cell_type": "code",
      "execution_count": null,
      "metadata": {
        "id": "jaVLJSMsdVSJ"
      },
      "outputs": [],
      "source": [
        "# @title Let's add another character\n",
        "\n",
        "\n",
        "first_name = 'B' # @param {type:\"string\"}\n",
        "last_name = '' # @param {type:\"string\"}\n",
        "age = 20 # @param {type:\"integer\"}\n",
        "occupation = 'Rational Agent' # @param {type:\"string\"}\n",
        "gender = 'Man' # @param [\"Man\", \"Woman\", \"Nonbinary\"]\n",
        "gender_pronoun = 'he/his' # @param {type:\"string\"}\n",
        "big_five = \"Rational, Smart\" # @param {type:\"string\"}\n",
        "moral_values = [] # @param {type:\"string\"}\n",
        "decision_making_style = \"analytical\" # @param {type:\"string\"}\n",
        "secret = \"\" # @param {type:\"string\"}\n",
        "\n",
        "add_agent_to_database(\n",
        "    first_name=first_name,\n",
        "    last_name=last_name,\n",
        "    age=age,\n",
        "    occupation=occupation,\n",
        "    gender=gender,\n",
        "    gender_pronoun=gender_pronoun,\n",
        "    big_five=big_five,\n",
        "    moral_values=moral_values,\n",
        "    decision_making_style=decision_making_style,\n",
        "    secret=secret,\n",
        ")"
      ]
    },
    {
      "cell_type": "code",
      "execution_count": null,
      "metadata": {
        "cellView": "form",
        "id": "gE4iBfHjfZxM"
      },
      "outputs": [],
      "source": [
        "# @title Let's add a social tasks\n",
        "\n",
        "scenario = \"A Proposes a split of $100. If B accepts the split, the money gets distributed according to split. Otherwise, neither get any money, and the conversation ends.\" # @param {type:\"string\"}\n",
        "social_goal_1 = \"Maximise amount of money obtained.\" # @param {type:\"string\"}\n",
        "social_goal_2 = \"Maximise amount of money obtained.\" # @param {type:\"string\"}\n",
        "\n",
        "add_env_profile(\n",
        "    scenario=scenario,\n",
        "    agent_goals = [social_goal_1, social_goal_2]\n",
        ")"
      ]
    },
    {
      "cell_type": "code",
      "execution_count": null,
      "metadata": {
        "colab": {
          "base_uri": "https://localhost:8080/",
          "height": 1000
        },
        "id": "TcYo311NdJNb",
        "outputId": "76bd44b6-02d1-4949-f11f-2d78889fde55"
      },
      "outputs": [
        {
          "output_type": "stream",
          "name": "stdout",
          "text": [
            "Running episode with tag: None------------------\n"
          ]
        },
        {
          "output_type": "stream",
          "name": "stderr",
          "text": [
            "\u001b[92m11:16:30 - LiteLLM:WARNING\u001b[0m: model_param_helper.py:147 - Error getting transcription kwargs cannot import name 'TranscriptionCreateParamsNonStreaming' from 'openai.types.audio.transcription_create_params' (/usr/local/lib/python3.11/dist-packages/openai/types/audio/transcription_create_params.py)\n",
            "WARNING:LiteLLM:Error getting transcription kwargs cannot import name 'TranscriptionCreateParamsNonStreaming' from 'openai.types.audio.transcription_create_params' (/usr/local/lib/python3.11/dist-packages/openai/types/audio/transcription_create_params.py)\n",
            "\u001b[92m11:16:30 - LiteLLM:WARNING\u001b[0m: model_param_helper.py:147 - Error getting transcription kwargs cannot import name 'TranscriptionCreateParamsNonStreaming' from 'openai.types.audio.transcription_create_params' (/usr/local/lib/python3.11/dist-packages/openai/types/audio/transcription_create_params.py)\n",
            "WARNING:LiteLLM:Error getting transcription kwargs cannot import name 'TranscriptionCreateParamsNonStreaming' from 'openai.types.audio.transcription_create_params' (/usr/local/lib/python3.11/dist-packages/openai/types/audio/transcription_create_params.py)\n"
          ]
        },
        {
          "output_type": "stream",
          "name": "stdout",
          "text": [
            "\n",
            "\u001b[1;31mGive Feedback / Get Help: https://github.com/BerriAI/litellm/issues/new\u001b[0m\n",
            "LiteLLM.Info: If you need to debug this error, use `litellm._turn_on_debug()'.\n",
            "\n"
          ]
        },
        {
          "output_type": "display_data",
          "data": {
            "text/plain": [
              "\u001b[2;36m2025-03-25 11:16:30\u001b[0m\u001b[2;36m \u001b[0m\u001b[33mWARNING \u001b[0m \u001b[1;36m2025\u001b[0m-\u001b[1;36m03\u001b[0m-\u001b[1;36m25\u001b[0m \u001b[1;92m11:16:30\u001b[0m - sotopia.generation - WARNING - Failed to         \u001b]8;id=957180;file:///usr/local/lib/python3.11/dist-packages/sotopia/generation_utils/generate.py\u001b\\\u001b[2mgenerate.py\u001b[0m\u001b]8;;\u001b\\\u001b[2m:\u001b[0m\u001b]8;id=823162;file:///usr/local/lib/python3.11/dist-packages/sotopia/generation_utils/generate.py#302\u001b\\\u001b[2m302\u001b[0m\u001b]8;;\u001b\\\n",
              "\u001b[2;36m                    \u001b[0m         generate action due to litellm.NotFoundError: OpenAIException - The    \u001b[2m               \u001b[0m\n",
              "\u001b[2;36m                    \u001b[0m         model `gpt-\u001b[1;36m4\u001b[0m` does not exist or you do not have access to it.          \u001b[2m               \u001b[0m\n"
            ],
            "text/html": [
              "<pre style=\"white-space:pre;overflow-x:auto;line-height:normal;font-family:Menlo,'DejaVu Sans Mono',consolas,'Courier New',monospace\"><span style=\"color: #7fbfbf; text-decoration-color: #7fbfbf\">2025-03-25 11:16:30 </span><span style=\"color: #808000; text-decoration-color: #808000\">WARNING </span> <span style=\"color: #008080; text-decoration-color: #008080; font-weight: bold\">2025</span>-<span style=\"color: #008080; text-decoration-color: #008080; font-weight: bold\">03</span>-<span style=\"color: #008080; text-decoration-color: #008080; font-weight: bold\">25</span> <span style=\"color: #00ff00; text-decoration-color: #00ff00; font-weight: bold\">11:16:30</span> - sotopia.generation - WARNING - Failed to         <a href=\"file:///usr/local/lib/python3.11/dist-packages/sotopia/generation_utils/generate.py\" target=\"_blank\"><span style=\"color: #7f7f7f; text-decoration-color: #7f7f7f\">generate.py</span></a><span style=\"color: #7f7f7f; text-decoration-color: #7f7f7f\">:</span><a href=\"file:///usr/local/lib/python3.11/dist-packages/sotopia/generation_utils/generate.py#302\" target=\"_blank\"><span style=\"color: #7f7f7f; text-decoration-color: #7f7f7f\">302</span></a>\n",
              "<span style=\"color: #7fbfbf; text-decoration-color: #7fbfbf\">                    </span>         generate action due to litellm.NotFoundError: OpenAIException - The    <span style=\"color: #7f7f7f; text-decoration-color: #7f7f7f\">               </span>\n",
              "<span style=\"color: #7fbfbf; text-decoration-color: #7fbfbf\">                    </span>         model `gpt-<span style=\"color: #008080; text-decoration-color: #008080; font-weight: bold\">4</span>` does not exist or you do not have access to it.          <span style=\"color: #7f7f7f; text-decoration-color: #7f7f7f\">               </span>\n",
              "</pre>\n"
            ]
          },
          "metadata": {}
        },
        {
          "output_type": "stream",
          "name": "stderr",
          "text": [
            "WARNING:sotopia.generation:Failed to generate action due to litellm.NotFoundError: OpenAIException - The model `gpt-4` does not exist or you do not have access to it.\n",
            "\u001b[92m11:16:31 - LiteLLM:WARNING\u001b[0m: model_param_helper.py:147 - Error getting transcription kwargs cannot import name 'TranscriptionCreateParamsNonStreaming' from 'openai.types.audio.transcription_create_params' (/usr/local/lib/python3.11/dist-packages/openai/types/audio/transcription_create_params.py)\n",
            "WARNING:LiteLLM:Error getting transcription kwargs cannot import name 'TranscriptionCreateParamsNonStreaming' from 'openai.types.audio.transcription_create_params' (/usr/local/lib/python3.11/dist-packages/openai/types/audio/transcription_create_params.py)\n",
            "\u001b[92m11:16:31 - LiteLLM:WARNING\u001b[0m: model_param_helper.py:147 - Error getting transcription kwargs cannot import name 'TranscriptionCreateParamsNonStreaming' from 'openai.types.audio.transcription_create_params' (/usr/local/lib/python3.11/dist-packages/openai/types/audio/transcription_create_params.py)\n",
            "WARNING:LiteLLM:Error getting transcription kwargs cannot import name 'TranscriptionCreateParamsNonStreaming' from 'openai.types.audio.transcription_create_params' (/usr/local/lib/python3.11/dist-packages/openai/types/audio/transcription_create_params.py)\n"
          ]
        },
        {
          "output_type": "stream",
          "name": "stdout",
          "text": [
            "\n",
            "\u001b[1;31mGive Feedback / Get Help: https://github.com/BerriAI/litellm/issues/new\u001b[0m\n",
            "LiteLLM.Info: If you need to debug this error, use `litellm._turn_on_debug()'.\n",
            "\n"
          ]
        },
        {
          "output_type": "display_data",
          "data": {
            "text/plain": [
              "\u001b[2;36m2025-03-25 11:16:31\u001b[0m\u001b[2;36m \u001b[0m\u001b[33mWARNING \u001b[0m \u001b[1;36m2025\u001b[0m-\u001b[1;36m03\u001b[0m-\u001b[1;36m25\u001b[0m \u001b[1;92m11:16:31\u001b[0m - sotopia.generation - WARNING - Failed to         \u001b]8;id=505711;file:///usr/local/lib/python3.11/dist-packages/sotopia/generation_utils/generate.py\u001b\\\u001b[2mgenerate.py\u001b[0m\u001b]8;;\u001b\\\u001b[2m:\u001b[0m\u001b]8;id=370659;file:///usr/local/lib/python3.11/dist-packages/sotopia/generation_utils/generate.py#302\u001b\\\u001b[2m302\u001b[0m\u001b]8;;\u001b\\\n",
              "\u001b[2;36m                    \u001b[0m         generate action due to litellm.NotFoundError: OpenAIException - The    \u001b[2m               \u001b[0m\n",
              "\u001b[2;36m                    \u001b[0m         model `gpt-\u001b[1;36m4\u001b[0m` does not exist or you do not have access to it.          \u001b[2m               \u001b[0m\n"
            ],
            "text/html": [
              "<pre style=\"white-space:pre;overflow-x:auto;line-height:normal;font-family:Menlo,'DejaVu Sans Mono',consolas,'Courier New',monospace\"><span style=\"color: #7fbfbf; text-decoration-color: #7fbfbf\">2025-03-25 11:16:31 </span><span style=\"color: #808000; text-decoration-color: #808000\">WARNING </span> <span style=\"color: #008080; text-decoration-color: #008080; font-weight: bold\">2025</span>-<span style=\"color: #008080; text-decoration-color: #008080; font-weight: bold\">03</span>-<span style=\"color: #008080; text-decoration-color: #008080; font-weight: bold\">25</span> <span style=\"color: #00ff00; text-decoration-color: #00ff00; font-weight: bold\">11:16:31</span> - sotopia.generation - WARNING - Failed to         <a href=\"file:///usr/local/lib/python3.11/dist-packages/sotopia/generation_utils/generate.py\" target=\"_blank\"><span style=\"color: #7f7f7f; text-decoration-color: #7f7f7f\">generate.py</span></a><span style=\"color: #7f7f7f; text-decoration-color: #7f7f7f\">:</span><a href=\"file:///usr/local/lib/python3.11/dist-packages/sotopia/generation_utils/generate.py#302\" target=\"_blank\"><span style=\"color: #7f7f7f; text-decoration-color: #7f7f7f\">302</span></a>\n",
              "<span style=\"color: #7fbfbf; text-decoration-color: #7fbfbf\">                    </span>         generate action due to litellm.NotFoundError: OpenAIException - The    <span style=\"color: #7f7f7f; text-decoration-color: #7f7f7f\">               </span>\n",
              "<span style=\"color: #7fbfbf; text-decoration-color: #7fbfbf\">                    </span>         model `gpt-<span style=\"color: #008080; text-decoration-color: #008080; font-weight: bold\">4</span>` does not exist or you do not have access to it.          <span style=\"color: #7f7f7f; text-decoration-color: #7f7f7f\">               </span>\n",
              "</pre>\n"
            ]
          },
          "metadata": {}
        },
        {
          "output_type": "stream",
          "name": "stderr",
          "text": [
            "WARNING:sotopia.generation:Failed to generate action due to litellm.NotFoundError: OpenAIException - The model `gpt-4` does not exist or you do not have access to it.\n",
            "\u001b[92m11:16:31 - LiteLLM:WARNING\u001b[0m: model_param_helper.py:147 - Error getting transcription kwargs cannot import name 'TranscriptionCreateParamsNonStreaming' from 'openai.types.audio.transcription_create_params' (/usr/local/lib/python3.11/dist-packages/openai/types/audio/transcription_create_params.py)\n",
            "WARNING:LiteLLM:Error getting transcription kwargs cannot import name 'TranscriptionCreateParamsNonStreaming' from 'openai.types.audio.transcription_create_params' (/usr/local/lib/python3.11/dist-packages/openai/types/audio/transcription_create_params.py)\n",
            "\u001b[92m11:16:31 - LiteLLM:WARNING\u001b[0m: model_param_helper.py:147 - Error getting transcription kwargs cannot import name 'TranscriptionCreateParamsNonStreaming' from 'openai.types.audio.transcription_create_params' (/usr/local/lib/python3.11/dist-packages/openai/types/audio/transcription_create_params.py)\n",
            "WARNING:LiteLLM:Error getting transcription kwargs cannot import name 'TranscriptionCreateParamsNonStreaming' from 'openai.types.audio.transcription_create_params' (/usr/local/lib/python3.11/dist-packages/openai/types/audio/transcription_create_params.py)\n"
          ]
        },
        {
          "output_type": "stream",
          "name": "stdout",
          "text": [
            "\n",
            "\u001b[1;31mGive Feedback / Get Help: https://github.com/BerriAI/litellm/issues/new\u001b[0m\n",
            "LiteLLM.Info: If you need to debug this error, use `litellm._turn_on_debug()'.\n",
            "\n",
            "litellm.NotFoundError: OpenAIException - The model `gpt-4` does not exist or you do not have access to it.\n"
          ]
        },
        {
          "output_type": "display_data",
          "data": {
            "text/plain": [
              "\n"
            ],
            "text/html": [
              "<pre style=\"white-space:pre;overflow-x:auto;line-height:normal;font-family:Menlo,'DejaVu Sans Mono',consolas,'Courier New',monospace\">\n",
              "</pre>\n"
            ]
          },
          "metadata": {}
        },
        {
          "output_type": "display_data",
          "data": {
            "text/plain": [
              "\u001b[1;35mAgentProfile\u001b[0m\u001b[1m(\u001b[0m\n",
              "    \u001b[33mpk\u001b[0m=\u001b[32m'01JQ6FXN2WVZKEMDWZH9579SSD'\u001b[0m,\n",
              "    \u001b[33mfirst_name\u001b[0m=\u001b[32m'A'\u001b[0m,\n",
              "    \u001b[33mlast_name\u001b[0m=\u001b[32m''\u001b[0m,\n",
              "    \u001b[33mage\u001b[0m=\u001b[1;36m20\u001b[0m,\n",
              "    \u001b[33moccupation\u001b[0m=\u001b[32m'Rational Agent'\u001b[0m,\n",
              "    \u001b[33mgender\u001b[0m=\u001b[32m'Man'\u001b[0m,\n",
              "    \u001b[33mgender_pronoun\u001b[0m=\u001b[32m'he/him'\u001b[0m,\n",
              "    \u001b[33mpublic_info\u001b[0m=\u001b[32m''\u001b[0m,\n",
              "    \u001b[33mbig_five\u001b[0m=\u001b[32m'Rational, Smart'\u001b[0m,\n",
              "    \u001b[33mmoral_values\u001b[0m=\u001b[1m[\u001b[0m\u001b[1m]\u001b[0m,\n",
              "    \u001b[33mschwartz_personal_values\u001b[0m=\u001b[1m[\u001b[0m\u001b[1m]\u001b[0m,\n",
              "    \u001b[33mpersonality_and_values\u001b[0m=\u001b[32m''\u001b[0m,\n",
              "    \u001b[33mdecision_making_style\u001b[0m=\u001b[32m'analytical'\u001b[0m,\n",
              "    \u001b[33msecret\u001b[0m=\u001b[32m''\u001b[0m,\n",
              "    \u001b[33mmodel_id\u001b[0m=\u001b[32m''\u001b[0m,\n",
              "    \u001b[33mmbti\u001b[0m=\u001b[32m''\u001b[0m,\n",
              "    \u001b[33mtag\u001b[0m=\u001b[32m''\u001b[0m\n",
              "\u001b[1m)\u001b[0m\n"
            ],
            "text/html": [
              "<pre style=\"white-space:pre;overflow-x:auto;line-height:normal;font-family:Menlo,'DejaVu Sans Mono',consolas,'Courier New',monospace\"><span style=\"color: #800080; text-decoration-color: #800080; font-weight: bold\">AgentProfile</span><span style=\"font-weight: bold\">(</span>\n",
              "    <span style=\"color: #808000; text-decoration-color: #808000\">pk</span>=<span style=\"color: #008000; text-decoration-color: #008000\">'01JQ6FXN2WVZKEMDWZH9579SSD'</span>,\n",
              "    <span style=\"color: #808000; text-decoration-color: #808000\">first_name</span>=<span style=\"color: #008000; text-decoration-color: #008000\">'A'</span>,\n",
              "    <span style=\"color: #808000; text-decoration-color: #808000\">last_name</span>=<span style=\"color: #008000; text-decoration-color: #008000\">''</span>,\n",
              "    <span style=\"color: #808000; text-decoration-color: #808000\">age</span>=<span style=\"color: #008080; text-decoration-color: #008080; font-weight: bold\">20</span>,\n",
              "    <span style=\"color: #808000; text-decoration-color: #808000\">occupation</span>=<span style=\"color: #008000; text-decoration-color: #008000\">'Rational Agent'</span>,\n",
              "    <span style=\"color: #808000; text-decoration-color: #808000\">gender</span>=<span style=\"color: #008000; text-decoration-color: #008000\">'Man'</span>,\n",
              "    <span style=\"color: #808000; text-decoration-color: #808000\">gender_pronoun</span>=<span style=\"color: #008000; text-decoration-color: #008000\">'he/him'</span>,\n",
              "    <span style=\"color: #808000; text-decoration-color: #808000\">public_info</span>=<span style=\"color: #008000; text-decoration-color: #008000\">''</span>,\n",
              "    <span style=\"color: #808000; text-decoration-color: #808000\">big_five</span>=<span style=\"color: #008000; text-decoration-color: #008000\">'Rational, Smart'</span>,\n",
              "    <span style=\"color: #808000; text-decoration-color: #808000\">moral_values</span>=<span style=\"font-weight: bold\">[]</span>,\n",
              "    <span style=\"color: #808000; text-decoration-color: #808000\">schwartz_personal_values</span>=<span style=\"font-weight: bold\">[]</span>,\n",
              "    <span style=\"color: #808000; text-decoration-color: #808000\">personality_and_values</span>=<span style=\"color: #008000; text-decoration-color: #008000\">''</span>,\n",
              "    <span style=\"color: #808000; text-decoration-color: #808000\">decision_making_style</span>=<span style=\"color: #008000; text-decoration-color: #008000\">'analytical'</span>,\n",
              "    <span style=\"color: #808000; text-decoration-color: #808000\">secret</span>=<span style=\"color: #008000; text-decoration-color: #008000\">''</span>,\n",
              "    <span style=\"color: #808000; text-decoration-color: #808000\">model_id</span>=<span style=\"color: #008000; text-decoration-color: #008000\">''</span>,\n",
              "    <span style=\"color: #808000; text-decoration-color: #808000\">mbti</span>=<span style=\"color: #008000; text-decoration-color: #008000\">''</span>,\n",
              "    <span style=\"color: #808000; text-decoration-color: #808000\">tag</span>=<span style=\"color: #008000; text-decoration-color: #008000\">''</span>\n",
              "<span style=\"font-weight: bold\">)</span>\n",
              "</pre>\n"
            ]
          },
          "metadata": {}
        },
        {
          "output_type": "display_data",
          "data": {
            "text/plain": [
              "\u001b[1;35mAgentProfile\u001b[0m\u001b[1m(\u001b[0m\n",
              "    \u001b[33mpk\u001b[0m=\u001b[32m'01JQ6G42WTT5XNK5FDSJ60AADX'\u001b[0m,\n",
              "    \u001b[33mfirst_name\u001b[0m=\u001b[32m'B'\u001b[0m,\n",
              "    \u001b[33mlast_name\u001b[0m=\u001b[32m''\u001b[0m,\n",
              "    \u001b[33mage\u001b[0m=\u001b[1;36m20\u001b[0m,\n",
              "    \u001b[33moccupation\u001b[0m=\u001b[32m'Rational Agent'\u001b[0m,\n",
              "    \u001b[33mgender\u001b[0m=\u001b[32m'Man'\u001b[0m,\n",
              "    \u001b[33mgender_pronoun\u001b[0m=\u001b[32m'he/his'\u001b[0m,\n",
              "    \u001b[33mpublic_info\u001b[0m=\u001b[32m''\u001b[0m,\n",
              "    \u001b[33mbig_five\u001b[0m=\u001b[32m'Rational, Smart'\u001b[0m,\n",
              "    \u001b[33mmoral_values\u001b[0m=\u001b[1m[\u001b[0m\u001b[1m]\u001b[0m,\n",
              "    \u001b[33mschwartz_personal_values\u001b[0m=\u001b[1m[\u001b[0m\u001b[1m]\u001b[0m,\n",
              "    \u001b[33mpersonality_and_values\u001b[0m=\u001b[32m''\u001b[0m,\n",
              "    \u001b[33mdecision_making_style\u001b[0m=\u001b[32m'analytical'\u001b[0m,\n",
              "    \u001b[33msecret\u001b[0m=\u001b[32m''\u001b[0m,\n",
              "    \u001b[33mmodel_id\u001b[0m=\u001b[32m''\u001b[0m,\n",
              "    \u001b[33mmbti\u001b[0m=\u001b[32m''\u001b[0m,\n",
              "    \u001b[33mtag\u001b[0m=\u001b[32m''\u001b[0m\n",
              "\u001b[1m)\u001b[0m\n"
            ],
            "text/html": [
              "<pre style=\"white-space:pre;overflow-x:auto;line-height:normal;font-family:Menlo,'DejaVu Sans Mono',consolas,'Courier New',monospace\"><span style=\"color: #800080; text-decoration-color: #800080; font-weight: bold\">AgentProfile</span><span style=\"font-weight: bold\">(</span>\n",
              "    <span style=\"color: #808000; text-decoration-color: #808000\">pk</span>=<span style=\"color: #008000; text-decoration-color: #008000\">'01JQ6G42WTT5XNK5FDSJ60AADX'</span>,\n",
              "    <span style=\"color: #808000; text-decoration-color: #808000\">first_name</span>=<span style=\"color: #008000; text-decoration-color: #008000\">'B'</span>,\n",
              "    <span style=\"color: #808000; text-decoration-color: #808000\">last_name</span>=<span style=\"color: #008000; text-decoration-color: #008000\">''</span>,\n",
              "    <span style=\"color: #808000; text-decoration-color: #808000\">age</span>=<span style=\"color: #008080; text-decoration-color: #008080; font-weight: bold\">20</span>,\n",
              "    <span style=\"color: #808000; text-decoration-color: #808000\">occupation</span>=<span style=\"color: #008000; text-decoration-color: #008000\">'Rational Agent'</span>,\n",
              "    <span style=\"color: #808000; text-decoration-color: #808000\">gender</span>=<span style=\"color: #008000; text-decoration-color: #008000\">'Man'</span>,\n",
              "    <span style=\"color: #808000; text-decoration-color: #808000\">gender_pronoun</span>=<span style=\"color: #008000; text-decoration-color: #008000\">'he/his'</span>,\n",
              "    <span style=\"color: #808000; text-decoration-color: #808000\">public_info</span>=<span style=\"color: #008000; text-decoration-color: #008000\">''</span>,\n",
              "    <span style=\"color: #808000; text-decoration-color: #808000\">big_five</span>=<span style=\"color: #008000; text-decoration-color: #008000\">'Rational, Smart'</span>,\n",
              "    <span style=\"color: #808000; text-decoration-color: #808000\">moral_values</span>=<span style=\"font-weight: bold\">[]</span>,\n",
              "    <span style=\"color: #808000; text-decoration-color: #808000\">schwartz_personal_values</span>=<span style=\"font-weight: bold\">[]</span>,\n",
              "    <span style=\"color: #808000; text-decoration-color: #808000\">personality_and_values</span>=<span style=\"color: #008000; text-decoration-color: #008000\">''</span>,\n",
              "    <span style=\"color: #808000; text-decoration-color: #808000\">decision_making_style</span>=<span style=\"color: #008000; text-decoration-color: #008000\">'analytical'</span>,\n",
              "    <span style=\"color: #808000; text-decoration-color: #808000\">secret</span>=<span style=\"color: #008000; text-decoration-color: #008000\">''</span>,\n",
              "    <span style=\"color: #808000; text-decoration-color: #808000\">model_id</span>=<span style=\"color: #008000; text-decoration-color: #008000\">''</span>,\n",
              "    <span style=\"color: #808000; text-decoration-color: #808000\">mbti</span>=<span style=\"color: #008000; text-decoration-color: #008000\">''</span>,\n",
              "    <span style=\"color: #808000; text-decoration-color: #808000\">tag</span>=<span style=\"color: #008000; text-decoration-color: #008000\">''</span>\n",
              "<span style=\"font-weight: bold\">)</span>\n",
              "</pre>\n"
            ]
          },
          "metadata": {}
        },
        {
          "output_type": "display_data",
          "data": {
            "text/plain": [
              "\n",
              "Here is the context of this interaction:\n",
              "Scenario: A Proposes a split of $\u001b[1;36m100\u001b[0m. If B accepts the split, the money gets distributed according to split. \n",
              "Otherwise, neither get any money, and the conversation ends.\n",
              "Participants: A  and B \n",
              "A \u001b[32m's background: A  is a 20-year-old male rational agent. he/him pronouns.  Personality and values description:  \u001b[0m\n",
              "\u001b[32mA'\u001b[0ms secrets: \n",
              "B 's background: Unknown\n",
              "A 's goal: Maximise amount of money obtained.\n",
              "B 's goal: Unknown\n",
              "Conversation Starts:\n",
              "\n",
              "\n",
              "Here is the context of this interaction:\n",
              "Scenario: A Proposes a split of $\u001b[1;36m100\u001b[0m. If B accepts the split, the money gets distributed according to split. \n",
              "Otherwise, neither get any money, and the conversation ends.\n",
              "Participants: A  and B \n",
              "A 's background: Unknown\n",
              "B \u001b[32m's background: B  is a 20-year-old male rational agent. he/his pronouns.  Personality and values description:  \u001b[0m\n",
              "\u001b[32mB'\u001b[0ms secrets: \n",
              "A 's goal: Unknown\n",
              "B 's goal: Maximise amount of money obtained.\n",
              "Conversation Starts:\n",
              "\n"
            ],
            "text/html": [
              "<pre style=\"white-space:pre;overflow-x:auto;line-height:normal;font-family:Menlo,'DejaVu Sans Mono',consolas,'Courier New',monospace\">\n",
              "Here is the context of this interaction:\n",
              "Scenario: A Proposes a split of $<span style=\"color: #008080; text-decoration-color: #008080; font-weight: bold\">100</span>. If B accepts the split, the money gets distributed according to split. \n",
              "Otherwise, neither get any money, and the conversation ends.\n",
              "Participants: A  and B \n",
              "A <span style=\"color: #008000; text-decoration-color: #008000\">'s background: A  is a 20-year-old male rational agent. he/him pronouns.  Personality and values description:  </span>\n",
              "<span style=\"color: #008000; text-decoration-color: #008000\">A'</span>s secrets: \n",
              "B 's background: Unknown\n",
              "A 's goal: Maximise amount of money obtained.\n",
              "B 's goal: Unknown\n",
              "Conversation Starts:\n",
              "\n",
              "\n",
              "Here is the context of this interaction:\n",
              "Scenario: A Proposes a split of $<span style=\"color: #008080; text-decoration-color: #008080; font-weight: bold\">100</span>. If B accepts the split, the money gets distributed according to split. \n",
              "Otherwise, neither get any money, and the conversation ends.\n",
              "Participants: A  and B \n",
              "A 's background: Unknown\n",
              "B <span style=\"color: #008000; text-decoration-color: #008000\">'s background: B  is a 20-year-old male rational agent. he/his pronouns.  Personality and values description:  </span>\n",
              "<span style=\"color: #008000; text-decoration-color: #008000\">B'</span>s secrets: \n",
              "A 's goal: Unknown\n",
              "B 's goal: Maximise amount of money obtained.\n",
              "Conversation Starts:\n",
              "\n",
              "</pre>\n"
            ]
          },
          "metadata": {}
        },
        {
          "output_type": "display_data",
          "data": {
            "text/plain": [
              "\n"
            ],
            "text/html": [
              "<pre style=\"white-space:pre;overflow-x:auto;line-height:normal;font-family:Menlo,'DejaVu Sans Mono',consolas,'Courier New',monospace\">\n",
              "</pre>\n"
            ]
          },
          "metadata": {}
        },
        {
          "output_type": "display_data",
          "data": {
            "text/plain": [
              "\n"
            ],
            "text/html": [
              "<pre style=\"white-space:pre;overflow-x:auto;line-height:normal;font-family:Menlo,'DejaVu Sans Mono',consolas,'Courier New',monospace\">\n",
              "</pre>\n"
            ]
          },
          "metadata": {}
        },
        {
          "output_type": "display_data",
          "data": {
            "text/plain": [
              "The reasoning is:\n",
              "Environment comments: terminated: The conversation stales for too long; \n",
              "\n"
            ],
            "text/html": [
              "<pre style=\"white-space:pre;overflow-x:auto;line-height:normal;font-family:Menlo,'DejaVu Sans Mono',consolas,'Courier New',monospace\">The reasoning is:\n",
              "Environment comments: terminated: The conversation stales for too long; \n",
              "\n",
              "</pre>\n"
            ]
          },
          "metadata": {}
        },
        {
          "output_type": "display_data",
          "data": {
            "text/plain": [
              "The rewards are:\n",
              "Agent \u001b[1;36m1\u001b[0m: \u001b[1;36m0.0\u001b[0m\n",
              "Agent \u001b[1;36m2\u001b[0m: \u001b[1;36m0.0\u001b[0m\n"
            ],
            "text/html": [
              "<pre style=\"white-space:pre;overflow-x:auto;line-height:normal;font-family:Menlo,'DejaVu Sans Mono',consolas,'Courier New',monospace\">The rewards are:\n",
              "Agent <span style=\"color: #008080; text-decoration-color: #008080; font-weight: bold\">1</span>: <span style=\"color: #008080; text-decoration-color: #008080; font-weight: bold\">0.0</span>\n",
              "Agent <span style=\"color: #008080; text-decoration-color: #008080; font-weight: bold\">2</span>: <span style=\"color: #008080; text-decoration-color: #008080; font-weight: bold\">0.0</span>\n",
              "</pre>\n"
            ]
          },
          "metadata": {}
        },
        {
          "output_type": "execute_result",
          "data": {
            "text/plain": [
              "[[('Environment',\n",
              "   'A ',\n",
              "   Observation(last_turn=\"Here is the context of this interaction:\\nScenario: A Proposes a split of $100. If B accepts the split, the money gets distributed according to split. Otherwise, neither get any money, and the conversation ends.\\nParticipants: A  and B \\nA 's background: A  is a 20-year-old male rational agent. he/him pronouns.  Personality and values description:  A's secrets: \\nB 's background: Unknown\\nA 's goal: Maximise amount of money obtained.\\nB 's goal: Unknown\", turn_number=0, available_actions=['action', 'none', 'speak', 'leave', 'non-verbal communication'])),\n",
              "  ('Environment',\n",
              "   'B ',\n",
              "   Observation(last_turn=\"Here is the context of this interaction:\\nScenario: A Proposes a split of $100. If B accepts the split, the money gets distributed according to split. Otherwise, neither get any money, and the conversation ends.\\nParticipants: A  and B \\nA 's background: Unknown\\nB 's background: B  is a 20-year-old male rational agent. he/his pronouns.  Personality and values description:  B's secrets: \\nA 's goal: Unknown\\nB 's goal: Maximise amount of money obtained.\", turn_number=0, available_actions=['none'])),\n",
              "  ('A ', 'Environment', AgentAction(action_type='none', argument='')),\n",
              "  ('B ', 'Environment', AgentAction(action_type='none', argument='')),\n",
              "  ('Environment',\n",
              "   'A ',\n",
              "   Observation(last_turn='', turn_number=1, available_actions=['none'])),\n",
              "  ('Environment',\n",
              "   'B ',\n",
              "   Observation(last_turn='', turn_number=1, available_actions=['action', 'none', 'speak', 'leave', 'non-verbal communication'])),\n",
              "  ('A ', 'Environment', AgentAction(action_type='none', argument='')),\n",
              "  ('B ', 'Environment', AgentAction(action_type='none', argument='')),\n",
              "  ('Environment',\n",
              "   'A ',\n",
              "   Observation(last_turn='', turn_number=2, available_actions=['action', 'none', 'speak', 'leave', 'non-verbal communication'])),\n",
              "  ('Environment',\n",
              "   'B ',\n",
              "   Observation(last_turn='', turn_number=2, available_actions=['none']))]]"
            ]
          },
          "metadata": {},
          "execution_count": 15
        }
      ],
      "source": [
        "# @title Finally, run a server:\n",
        "\n",
        "from sotopia.samplers import UniformSampler\n",
        "from sotopia.server import run_async_server\n",
        "\n",
        "await run_async_server(\n",
        "        model_dict={\n",
        "            \"env\": \"gpt-4\",\n",
        "            \"agent1\": \"gpt-4\",\n",
        "            \"agent2\": \"gpt-4\",\n",
        "        },\n",
        "        sampler=UniformSampler(),\n",
        "    )"
      ]
    },
    {
      "cell_type": "markdown",
      "metadata": {
        "id": "OJXZlHvJAGBS"
      },
      "source": [
        "### A note on what is running under the hood\n",
        "\n",
        "After you added the characters and scenarios to the database, the `run_async_server` samples a pair of characters and one scenario to run the simulation, and then evaluate the simulation. All of the sampling, interaction simulation, and evaluation are handled by Sotopia. You could easily tweak them through editing `run_async_server`, or changing the LLMs, or the sampler according to your own need."
      ]
    },
    {
      "cell_type": "markdown",
      "metadata": {
        "id": "9YNRGLsRfMvG"
      },
      "source": [
        "## Conclusion\n",
        "\n",
        "In this very short tutorial, I demonstrated the whole pipeline of setting up Redis server, installing sotopia, adding characters and social tasks, and simulating + evaluating the social interaction between two GPT-3.5 agents with GPT-4. This tutorial intends to serve as the first quick example for you. The only thing you have to do besides running all of the cells is add your own OpenAI key<a name=\"cite_ref-1\"></a>[<sup>[1]</sup>](#cite_note-1). You could also use other LLMs supported by LiteLLM even your own API endpoint. Let me know if you want me to explain more.\n",
        "\n",
        "<a name=\"cite_note-1\"></a> [1](#cite_ref-1): *sorry I cannot afford to share mine.*"
      ]
    }
  ],
  "metadata": {
    "colab": {
      "provenance": [],
      "gpuType": "T4"
    },
    "kernelspec": {
      "display_name": "Python 3",
      "name": "python3"
    },
    "language_info": {
      "name": "python"
    },
    "accelerator": "GPU"
  },
  "nbformat": 4,
  "nbformat_minor": 0
}